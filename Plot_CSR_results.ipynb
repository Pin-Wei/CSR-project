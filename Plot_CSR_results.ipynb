{
 "cells": [
  {
   "cell_type": "code",
   "execution_count": 1,
   "metadata": {},
   "outputs": [],
   "source": [
    "import os\n",
    "import re\n",
    "import glob\n",
    "import pandas as pd\n",
    "import numpy as np"
   ]
  },
  {
   "cell_type": "code",
   "execution_count": 2,
   "metadata": {},
   "outputs": [],
   "source": [
    "import seaborn as sns"
   ]
  },
  {
   "cell_type": "code",
   "execution_count": 3,
   "metadata": {},
   "outputs": [],
   "source": [
    "import matplotlib as mpl\n",
    "import matplotlib.pyplot as plt\n",
    "import matplotlib.gridspec as grid_spec\n",
    "%matplotlib inline"
   ]
  },
  {
   "cell_type": "code",
   "execution_count": 34,
   "metadata": {},
   "outputs": [
    {
     "name": "stdout",
     "output_type": "stream",
     "text": [
      "Index(['SID', 'X0', 'LogCF', 'NS', 'CON', 'PC', 'SC', 'SAR', 'IMG', 'AoA',\n",
      "       'F1^2', 'F2^2', 'F3^2', 'F4^2', 'F5^2', 'F6^2', 'F7^2', 'F8^2', 'F1F2',\n",
      "       'F1F3', 'F1F4', 'F1F5', 'F1F6', 'F1F7', 'F1F8', 'F2F3', 'F2F4', 'F2F5',\n",
      "       'F2F6', 'F2F7', 'F2F8', 'F3F4', 'F3F5', 'F3F6', 'F3F7', 'F3F8', 'F4F5',\n",
      "       'F4F6', 'F4F7', 'F4F8', 'F5F6', 'F5F7', 'F5F8', 'F6F7', 'F6F8', 'F7F8',\n",
      "       'R_squared', 'Adjusted_R2', 'LogLik', 'AIC', 'AICc', 'BIC', 'NRMSE'],\n",
      "      dtype='object')\n"
     ]
    }
   ],
   "source": [
    "author = [\"Chang_et_al\", \"Tse_et_al\"][0]\n",
    "task = [\"Naming\", \"LD\"][0]\n",
    "data_folder = os.path.join(\"Output_Linguistic\", author, task)\n",
    "\n",
    "mdl = [\"CSR\", \"GLM\"][0]\n",
    "zscored = [\"\", \" (z-scored)\"][1]\n",
    "normed = [\"\", \" (normed)\"][0]\n",
    "data_name = f\"{mdl}_regression_results{zscored}{normed}.csv\"\n",
    "\n",
    "data_path = os.path.join(data_folder, data_name)\n",
    "data = pd.read_csv(data_path)\n",
    "\n",
    "print(data.columns)"
   ]
  },
  {
   "cell_type": "code",
   "execution_count": 40,
   "metadata": {},
   "outputs": [],
   "source": [
    "rawdata_folder = os.path.join(\"Data_Linguistic\", author, task)\n",
    "fn_regex = \"zscored_sub_*.xlsx\" if zscored == \" (z-scored)\" else \"sub_*.xlsx\"\n",
    "data_paths = glob.glob(os.path.join(rawdata_folder, fn_regex))\n",
    "\n",
    "if 'SID' in data.columns:\n",
    "    data.set_index('SID', inplace=True)\n",
    "data[\"nT\"] = np.nan\n",
    "\n",
    "for fp in data_paths:\n",
    "    sid = int(re.findall('([\\d]*).xlsx', os.path.basename(fp))[0])\n",
    "    rawdata = pd.read_excel(fp)\n",
    "    data.loc[sid, 'nT'] = len(rawdata)"
   ]
  },
  {
   "cell_type": "code",
   "execution_count": 42,
   "metadata": {},
   "outputs": [
    {
     "name": "stdout",
     "output_type": "stream",
     "text": [
      "                  min      max      mean     std\n",
      "X0             -0.710    1.097     0.241   0.306\n",
      "LogCF          -0.292    0.140    -0.071   0.085\n",
      "NS             -0.262    0.196     0.024   0.069\n",
      "CON            -0.316    0.135    -0.049   0.074\n",
      "PC             -0.170    0.210    -0.002   0.079\n",
      "SC             -0.194    0.215     0.006   0.067\n",
      "SAR            -0.239    0.124    -0.056   0.078\n",
      "IMG            -0.204    0.143    -0.054   0.067\n",
      "AoA            -0.124    0.208     0.044   0.068\n",
      "R_squared       0.193    0.507     0.349   0.063\n",
      "Adjusted_R2    -0.072    0.310     0.092   0.080\n",
      "LogLik       -164.221  -39.411  -101.232  20.920\n",
      "AIC           168.822  418.442   292.464  41.839\n",
      "AICc          203.322  447.393   328.970  39.917\n",
      "BIC           308.862  564.321   430.958  43.784\n",
      "NRMSE           0.289  269.580    23.296  33.313\n",
      "nT            131.000  198.000   160.929  13.119\n"
     ]
    }
   ],
   "source": [
    "desc_cols = [\n",
    "'X0', 'LogCF', 'NS', 'CON', 'PC', 'SC', 'SAR', 'IMG', 'AoA',\n",
    "'R_squared', 'Adjusted_R2', 'LogLik', 'AIC', 'AICc', 'BIC', 'NRMSE', \n",
    "'nT'\n",
    "]\n",
    "\n",
    "data_desc = (data[desc_cols].describe()\n",
    "             .astype('float')\n",
    "             .map(lambda x: f\"{x:.3f}\")\n",
    "             .loc[['min', 'max', 'mean', 'std'], :]\n",
    "             .T)\n",
    "    \n",
    "print(data_desc)"
   ]
  },
  {
   "cell_type": "code",
   "execution_count": 43,
   "metadata": {},
   "outputs": [],
   "source": [
    "dn = data_name.replace(\".csv\", \"\")\n",
    "fp = os.path.join(data_folder, f\"[Desc] {dn}.xlsx\")\n",
    "\n",
    "if not os.path.exists(fp):\n",
    "    data_desc.to_excel(fp)"
   ]
  },
  {
   "cell_type": "code",
   "execution_count": 44,
   "metadata": {},
   "outputs": [],
   "source": [
    "fig_folder = os.path.join(\"Figs_Linguistic\", author, task)\n",
    "if not os.path.exists(fig_folder):\n",
    "    os.makedirs(fig_folder) "
   ]
  },
  {
   "cell_type": "code",
   "execution_count": 46,
   "metadata": {},
   "outputs": [],
   "source": [
    "for targ_col, bin_range in zip([\n",
    "     'R_squared', 'Adjusted_R2', 'NRMSE', 'AIC', 'AICc', 'BIC', \n",
    "    'nT'\n",
    "], [\n",
    "    (0, .52), (-.1, .32), (.25, 871), (147, 565), (147, 565), (147, 565), \n",
    "    (100, 200)\n",
    "]):\n",
    "    if targ_col == 'nT':\n",
    "        fn = f\"[histplot] {targ_col}.png\"\n",
    "    else:\n",
    "        fn = f\"[histplot] {mdl} fitting {targ_col}.png\"\n",
    "\n",
    "    if not os.path.exists(os.path.join(fig_folder, fn)):\n",
    "        sns.histplot(\n",
    "            data=data, \n",
    "            x=targ_col, \n",
    "            binrange=bin_range, \n",
    "            kde=True, \n",
    "            bins=30\n",
    "        )\n",
    "        plt.axvline(\n",
    "            data[targ_col].mean(), color=\"red\", linestyle=\"-\", \n",
    "        )\n",
    "        plt.axvline(\n",
    "            data[targ_col].median(), color=\"lightgreen\", linestyle=\"-\", \n",
    "        )\n",
    "        plt.tight_layout() \n",
    "        plt.savefig(os.path.join(fig_folder, fn), format='png', dpi=200)\n",
    "        plt.close()"
   ]
  },
  {
   "cell_type": "code",
   "execution_count": null,
   "metadata": {},
   "outputs": [],
   "source": [
    "dn = data_name.replace(\".csv\", \"\")\n",
    "fn = f\"[coef] {dn}.png\"\n",
    "\n",
    "x_labels = ['X0', 'LogCF', 'NS', 'CON', 'PC', 'SC', 'SAR', 'IMG', 'AoA']\n",
    "\n",
    "long_data = (data\n",
    "             .loc[:, ['SID'] + x_labels]\n",
    "             .melt(id_vars=\"SID\"))\n",
    "\n",
    "sorted_x_labs = sorted(x_labels, \n",
    "                       key=lambda x: \n",
    "                       data.loc[:, x_labels].mean().rank(ascending=False)[x])\n",
    "\n",
    "colors = sns.cubehelix_palette(9, rot=-.25, light=.7)\n",
    "sns.set_theme(style=\"white\")\n",
    "\n",
    "## Create ridgeplots in Matplotlib\n",
    "## see: https://matplotlib.org/matplotblog/posts/create-ridgeplots-in-matplotlib/\n",
    "\n",
    "gs = grid_spec.GridSpec(len(x_labels), 1)\n",
    "fig = plt.figure(figsize=(10, 6), dpi=200)\n",
    "\n",
    "ax_objs = []\n",
    "for i, xlab in enumerate(sorted_x_labs):\n",
    "    ax_objs.append(fig.add_subplot(gs[i:i+1, :]))\n",
    "    \n",
    "    plot = (long_data\n",
    "            .query(\"variable == @xlab\")[\"value\"]\n",
    "            .plot.kde(ax=ax_objs[-1], lw=0.5))\n",
    "    \n",
    "    # grabbing x and y data from the kde plot\n",
    "    x = plot.get_children()[0]._x\n",
    "    y = plot.get_children()[0]._y\n",
    "    \n",
    "    # filling the space beneath the distribution\n",
    "    ax_objs[-1].fill_between(x, y, color=colors[i])\n",
    "\n",
    "    # setting uniform x and y lims\n",
    "    ax_objs[-1].set_xlim(-0.8, 1.1) # min(long_data[\"value\"]), max(long_data[\"value\"])\n",
    "    ax_objs[-1].set_ylim(0, 8.5) # print(max(y))\n",
    "\n",
    "    # make background transparent\n",
    "    rect = ax_objs[-1].patch\n",
    "    rect.set_alpha(0)\n",
    "\n",
    "    # remove axis ticks and labels \n",
    "    ax_objs[-1].set_ylabel('')\n",
    "    ax_objs[-1].set_yticklabels([])\n",
    "    if xlab != sorted_x_labs[-1]:\n",
    "        ax_objs[-1].set_xticklabels([])\n",
    "    \n",
    "    # remove borders\n",
    "    for s in [\"top\", \"right\", \"left\", \"bottom\"]:\n",
    "        ax_objs[-1].spines[s].set_visible(False)\n",
    "        \n",
    "    # add labels\n",
    "    ax_objs[-1].text(-0.8, # min(long_data[\"value\"])\n",
    "                     0.5, xlab, \n",
    "                     fontweight=\"bold\", fontsize=14, ha=\"right\")\n",
    "    \n",
    "    # mark median, mean, and zero\n",
    "    ax_objs[-1].axvline(\n",
    "        data[xlab].median(), color=\"lightgreen\", linestyle=\"-\"\n",
    "    )\n",
    "    ax_objs[-1].axvline(\n",
    "        data[xlab].mean(), color=\"red\", linestyle=\"--\"\n",
    "    )\n",
    "    ax_objs[-1].axvline(\n",
    "        0, color=\"black\", linestyle=\"-\", lw=.5\n",
    "    )\n",
    "\n",
    "# overlapping axes objects\n",
    "gs.update(hspace= -0.5)\n",
    "\n",
    "# plt.show()\n",
    "plt.savefig(os.path.join(fig_folder, fn), format='png', bbox_inches='tight')\n",
    "plt.close()\n",
    "\n",
    "print(f\"saved: {fn}\")"
   ]
  }
 ],
 "metadata": {
  "kernelspec": {
   "display_name": "Python 3 (ipykernel)",
   "language": "python",
   "name": "python3"
  },
  "language_info": {
   "codemirror_mode": {
    "name": "ipython",
    "version": 3
   },
   "file_extension": ".py",
   "mimetype": "text/x-python",
   "name": "python",
   "nbconvert_exporter": "python",
   "pygments_lexer": "ipython3",
   "version": "3.10.16"
  }
 },
 "nbformat": 4,
 "nbformat_minor": 4
}
