{
 "cells": [
  {
   "cell_type": "code",
   "execution_count": 1,
   "metadata": {},
   "outputs": [],
   "source": [
    "import os\n",
    "import re\n",
    "import glob\n",
    "import pandas as pd\n",
    "import numpy as np"
   ]
  },
  {
   "cell_type": "code",
   "execution_count": 2,
   "metadata": {},
   "outputs": [],
   "source": [
    "from itertools import combinations"
   ]
  },
  {
   "cell_type": "code",
   "execution_count": 3,
   "metadata": {},
   "outputs": [],
   "source": [
    "import seaborn as sns"
   ]
  },
  {
   "cell_type": "code",
   "execution_count": 4,
   "metadata": {},
   "outputs": [],
   "source": [
    "import matplotlib.pyplot as plt\n",
    "%matplotlib inline"
   ]
  },
  {
   "cell_type": "code",
   "execution_count": 5,
   "metadata": {},
   "outputs": [
    {
     "name": "stdout",
     "output_type": "stream",
     "text": [
      "Data_Linguistic\\Chang_et_al\\Naming\n",
      "# Total: 140 files\n"
     ]
    }
   ],
   "source": [
    "author = [\"Chang_et_al\", \"Tse_et_al\"][0]\n",
    "task = [\"Naming\", \"LD\"][0]\n",
    "\n",
    "data_folder = os.path.join(\"Data_Linguistic\", author, task)\n",
    "\n",
    "zscored = [\"\", \"zscored_\"][1]\n",
    "data_paths = glob.glob(os.path.join(data_folder, f\"{zscored}sub_*.xlsx\"))\n",
    "\n",
    "print(data_folder)\n",
    "print(\"# Total:\", len(data_paths), \"files\")"
   ]
  },
  {
   "cell_type": "code",
   "execution_count": 6,
   "metadata": {},
   "outputs": [],
   "source": [
    "# nT_list = []\n",
    "# for fp in data_paths:\n",
    "#     data = pd.read_excel(fp)\n",
    "#     nT_list.append(len(data))\n",
    "    \n",
    "# print(\n",
    "#     np.array(nT_list).mean(), \n",
    "#     np.array(nT_list).min(), \n",
    "#     np.array(nT_list).max(), \n",
    "#     np.array(nT_list).std()\n",
    "# )"
   ]
  },
  {
   "cell_type": "code",
   "execution_count": 7,
   "metadata": {},
   "outputs": [
    {
     "name": "stdout",
     "output_type": "stream",
     "text": [
      "Data_Linguistic\\Chang_et_al\\Naming\\derinatives\n"
     ]
    }
   ],
   "source": [
    "out_folder = os.path.join(data_folder, \"derivatives\")\n",
    "\n",
    "if not os.path.exists(out_folder):\n",
    "    os.mkdir(out_folder)\n",
    "    \n",
    "print(out_folder)"
   ]
  },
  {
   "cell_type": "code",
   "execution_count": 8,
   "metadata": {},
   "outputs": [
    {
     "name": "stdout",
     "output_type": "stream",
     "text": [
      "# subj ID:  5012\n"
     ]
    }
   ],
   "source": [
    "sidx = 1\n",
    "\n",
    "fp = data_paths[sidx]\n",
    "fn = os.path.basename(fp)\n",
    "sid = re.findall(f\"{zscored}sub_([\\d]*).xlsx\", fn)[0]\n",
    "\n",
    "print(\"# subj ID: \", sid)"
   ]
  },
  {
   "cell_type": "code",
   "execution_count": 9,
   "metadata": {},
   "outputs": [],
   "source": [
    "data = pd.read_excel(fp)"
   ]
  },
  {
   "cell_type": "code",
   "execution_count": 13,
   "metadata": {},
   "outputs": [
    {
     "data": {
      "text/plain": [
       "Index(['LogCF', 'NS', 'CON', 'PC', 'SC', 'SAR', 'IMG', 'AoA', 'z_rt'], dtype='object')"
      ]
     },
     "execution_count": 13,
     "metadata": {},
     "output_type": "execute_result"
    }
   ],
   "source": [
    "data.columns"
   ]
  },
  {
   "cell_type": "markdown",
   "metadata": {},
   "source": [
    "## Archived"
   ]
  },
  {
   "cell_type": "code",
   "execution_count": 1,
   "metadata": {},
   "outputs": [],
   "source": [
    "# for idxs in list(combinations(list(data.index[:10]), 3)):\n",
    "#     sub_data = data.loc[idxs, :].reset_index()\n",
    "#     print(sub_data)"
   ]
  },
  {
   "cell_type": "code",
   "execution_count": 15,
   "metadata": {},
   "outputs": [],
   "source": [
    "# if zscored == \"zscored_\": \n",
    "#     targ_col = \"z_rt\"\n",
    "#     fn = f\"[histplot] {targ_col} (z-scored) sub-{sid}.png\"\n",
    "#     bin_range = (-3, 3)\n",
    "# else:\n",
    "#     targ_col = \"rt\"\n",
    "#     fn = f\"[histplot] {targ_col} sub-{sid}.png\"\n",
    "#     bin_range = None\n",
    "    \n",
    "# fd = os.path.join(\"Figs_Linguistic\", author, task)\n",
    "# if not os.path.exists(fd):\n",
    "#     os.makedirs(fd) \n",
    "\n",
    "# fig, ax = plt.subplots(figsize=(8, 6))\n",
    "# sns.histplot(\n",
    "#     data=data, \n",
    "#     x=targ_col, \n",
    "#     binrange=bin_range, \n",
    "#     kde=True, \n",
    "#     bins=30\n",
    "# )\n",
    "# ax.set_xlabel(targ_col, fontsize=16)\n",
    "# ax.set_ylabel(\"Count\", fontsize=16)\n",
    "# plt.xticks(fontsize=14)\n",
    "# plt.yticks(fontsize=14)\n",
    "# plt.tight_layout() \n",
    "# plt.savefig(os.path.join(fd, fn), format='png', dpi=200)\n",
    "# plt.close()\n",
    "\n",
    "# print(f\"saved: {fn}\")"
   ]
  },
  {
   "cell_type": "code",
   "execution_count": null,
   "metadata": {},
   "outputs": [],
   "source": [
    "# plt.style.use('seaborn-v0_8-white')\n",
    "\n",
    "# ax.hist(\n",
    "#     data[targ_col], \n",
    "#     density=True, \n",
    "#     bins=30, \n",
    "#     # range=[-3, 3], \n",
    "#     alpha=0.5\n",
    "# )"
   ]
  },
  {
   "cell_type": "code",
   "execution_count": 118,
   "metadata": {},
   "outputs": [
    {
     "name": "stdout",
     "output_type": "stream",
     "text": [
      "62 164\n",
      "32 132\n",
      "22 110\n",
      "18 92\n",
      "13 79\n",
      "11 68\n",
      "8 60\n",
      "3 57\n"
     ]
    }
   ],
   "source": [
    "# F1 = \"LogCF\"\n",
    "# F2 = \"IMG\"\n",
    "# Y  = \"rt\"\n",
    "# nF = 2\n",
    "# min_nT = (nF*3 + nF^2 + 2) / 2\n",
    "\n",
    "# sub_data = data.loc[:, [F1, F2, Y]]\n",
    "# keep_going = True\n",
    "# count = 0\n",
    "\n",
    "# while keep_going:\n",
    "#     count = count + 1\n",
    "    \n",
    "#     sub_data[\"F1_Q\"] = pd.qcut(sub_data[F1], 4, labels=[\"Q1\", \"Q2\", \"Q3\", \"Q4\"])\n",
    "#     sub_data[\"F2_Q\"] = pd.qcut(sub_data[F2], 4, labels=[\"Q1\", \"Q2\", \"Q3\", \"Q4\"])  \n",
    "    \n",
    "#     out_data = (sub_data\n",
    "#                 .query('F1_Q in [\"Q1\", \"Q4\"] & F2_Q in [\"Q1\", \"Q4\"]')\n",
    "#                 .iloc[:, :3])\n",
    "    \n",
    "#     if len(out_data) > min_nT:\n",
    "#         fn = f\"sub-{sid}_part-{count}.xlsx\"\n",
    "# #         out_data.to_excel(os.path.join(out_folder, fn), index=False)\n",
    "#     else:\n",
    "#         keep_going = False\n",
    "        \n",
    "#     sub_data = sub_data.drop(out_data.index)\n",
    "    \n",
    "#     print(len(out_data), len(sub_data))"
   ]
  },
  {
   "cell_type": "code",
   "execution_count": 127,
   "metadata": {},
   "outputs": [
    {
     "data": {
      "text/plain": [
       "array([2.03541625, 2.74351   , 3.3854685 ])"
      ]
     },
     "execution_count": 127,
     "metadata": {},
     "output_type": "execute_result"
    }
   ],
   "source": [
    "# np.quantile(data[F1], [.25, .5, .75])"
   ]
  }
 ],
 "metadata": {
  "kernelspec": {
   "display_name": "Python 3 (ipykernel)",
   "language": "python",
   "name": "python3"
  },
  "language_info": {
   "codemirror_mode": {
    "name": "ipython",
    "version": 3
   },
   "file_extension": ".py",
   "mimetype": "text/x-python",
   "name": "python",
   "nbconvert_exporter": "python",
   "pygments_lexer": "ipython3",
   "version": "3.10.16"
  }
 },
 "nbformat": 4,
 "nbformat_minor": 4
}
